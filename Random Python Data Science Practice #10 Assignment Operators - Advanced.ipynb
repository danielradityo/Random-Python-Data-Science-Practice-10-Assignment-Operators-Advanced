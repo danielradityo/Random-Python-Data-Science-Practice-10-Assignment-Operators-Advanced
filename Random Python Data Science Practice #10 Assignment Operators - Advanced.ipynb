{
 "cells": [
  {
   "cell_type": "markdown",
   "metadata": {},
   "source": [
    "# Random Python Data Science Practice #10"
   ]
  },
  {
   "cell_type": "markdown",
   "metadata": {},
   "source": [
    "## Assignment Operators - Advanced"
   ]
  },
  {
   "cell_type": "code",
   "execution_count": 7,
   "metadata": {},
   "outputs": [],
   "source": [
    "# Several Assignment Operators - Advanced\n",
    "a = 4 # --> integer\n",
    "b = 7 # --> integer "
   ]
  },
  {
   "cell_type": "markdown",
   "metadata": {},
   "source": [
    "## %="
   ]
  },
  {
   "cell_type": "code",
   "execution_count": 2,
   "metadata": {},
   "outputs": [
    {
     "name": "stdout",
     "output_type": "stream",
     "text": [
      "a modulus b = 4\n"
     ]
    }
   ],
   "source": [
    "a = 4 # --> integer\n",
    "b = 7 # --> integer \n",
    "a %= b # a equal to a modulus b\n",
    "print('a modulus b =', a) # --> Result a modulus b"
   ]
  },
  {
   "cell_type": "markdown",
   "metadata": {},
   "source": [
    "## //="
   ]
  },
  {
   "cell_type": "code",
   "execution_count": 3,
   "metadata": {},
   "outputs": [
    {
     "name": "stdout",
     "output_type": "stream",
     "text": [
      "a root b = 4\n"
     ]
    }
   ],
   "source": [
    "a = 4 # --> integer\n",
    "b = 7 # --> integer \n",
    "a %= b # a equal to a root b\n",
    "print('a root b =', a) # --> Result a root b"
   ]
  },
  {
   "cell_type": "markdown",
   "metadata": {},
   "source": [
    "## **="
   ]
  },
  {
   "cell_type": "code",
   "execution_count": 6,
   "metadata": {},
   "outputs": [
    {
     "name": "stdout",
     "output_type": "stream",
     "text": [
      "a power b = 16384\n"
     ]
    }
   ],
   "source": [
    "a = 4 # --> integer\n",
    "b = 7 # --> integer \n",
    "a **= b # a equal to a power b\n",
    "print('a power b =', a) # --> Result a power b"
   ]
  }
 ],
 "metadata": {
  "kernelspec": {
   "display_name": "Python 3",
   "language": "python",
   "name": "python3"
  },
  "language_info": {
   "codemirror_mode": {
    "name": "ipython",
    "version": 3
   },
   "file_extension": ".py",
   "mimetype": "text/x-python",
   "name": "python",
   "nbconvert_exporter": "python",
   "pygments_lexer": "ipython3",
   "version": "3.8.5"
  }
 },
 "nbformat": 4,
 "nbformat_minor": 4
}
